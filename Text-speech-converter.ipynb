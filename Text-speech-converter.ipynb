{
 "cells": [
  {
   "cell_type": "code",
   "execution_count": 1,
   "id": "b79b7f6a",
   "metadata": {},
   "outputs": [
    {
     "name": "stdout",
     "output_type": "stream",
     "text": [
      "Requirement already satisfied: pyttsx3 in c:\\users\\gunnu\\anaconda3\\lib\\site-packages (2.90)\n",
      "Requirement already satisfied: comtypes in c:\\users\\gunnu\\anaconda3\\lib\\site-packages (from pyttsx3) (1.1.10)\n",
      "Requirement already satisfied: pywin32 in c:\\users\\gunnu\\anaconda3\\lib\\site-packages (from pyttsx3) (302)\n",
      "Requirement already satisfied: pypiwin32 in c:\\users\\gunnu\\anaconda3\\lib\\site-packages (from pyttsx3) (223)\n"
     ]
    }
   ],
   "source": [
    "!pip install pyttsx3"
   ]
  },
  {
   "cell_type": "code",
   "execution_count": 2,
   "id": "7aaf5484",
   "metadata": {},
   "outputs": [
    {
     "name": "stdout",
     "output_type": "stream",
     "text": [
      "Requirement already satisfied: gtts in c:\\users\\gunnu\\anaconda3\\lib\\site-packages (2.3.2)\n",
      "Requirement already satisfied: requests<3,>=2.27 in c:\\users\\gunnu\\anaconda3\\lib\\site-packages (from gtts) (2.28.1)\n",
      "Requirement already satisfied: click<8.2,>=7.1 in c:\\users\\gunnu\\anaconda3\\lib\\site-packages (from gtts) (8.0.4)\n",
      "Requirement already satisfied: colorama in c:\\users\\gunnu\\anaconda3\\lib\\site-packages (from click<8.2,>=7.1->gtts) (0.4.5)\n",
      "Requirement already satisfied: idna<4,>=2.5 in c:\\users\\gunnu\\anaconda3\\lib\\site-packages (from requests<3,>=2.27->gtts) (3.3)\n",
      "Requirement already satisfied: urllib3<1.27,>=1.21.1 in c:\\users\\gunnu\\anaconda3\\lib\\site-packages (from requests<3,>=2.27->gtts) (1.26.11)\n",
      "Requirement already satisfied: certifi>=2017.4.17 in c:\\users\\gunnu\\anaconda3\\lib\\site-packages (from requests<3,>=2.27->gtts) (2022.9.14)\n",
      "Requirement already satisfied: charset-normalizer<3,>=2 in c:\\users\\gunnu\\anaconda3\\lib\\site-packages (from requests<3,>=2.27->gtts) (2.0.4)\n"
     ]
    }
   ],
   "source": [
    "!pip install gtts"
   ]
  },
  {
   "cell_type": "code",
   "execution_count": 3,
   "id": "28b760fb",
   "metadata": {},
   "outputs": [
    {
     "name": "stdout",
     "output_type": "stream",
     "text": [
      "Requirement already satisfied: playsound in c:\\users\\gunnu\\anaconda3\\lib\\site-packages (1.3.0)\n"
     ]
    }
   ],
   "source": [
    "!pip install playsound"
   ]
  },
  {
   "cell_type": "code",
   "execution_count": 4,
   "id": "f7061bf2",
   "metadata": {},
   "outputs": [],
   "source": [
    "import tkinter as tk\n",
    "from tkinter import *\n",
    "from tkinter import filedialog\n",
    "from tkinter.ttk import Combobox\n",
    "import pyttsx3\n",
    "import os\n",
    "from gtts import gTTS\n",
    "from playsound import playsound\n",
    "from PIL import Image, ImageTk\n",
    "import ctypes"
   ]
  },
  {
   "cell_type": "code",
   "execution_count": 5,
   "id": "ca20eebb",
   "metadata": {},
   "outputs": [],
   "source": [
    "root=Tk()\n",
    "root.title(\"Khushi's Text to Speech Project\")\n",
    "root.geometry(\"1000x580+200+80\")\n",
    "root.resizable(True,True)\n",
    "root.configure(bg=\"#1F77B4\")\n",
    "#root.mainloop()"
   ]
  },
  {
   "cell_type": "code",
   "execution_count": 6,
   "id": "db2c0a37",
   "metadata": {},
   "outputs": [],
   "source": [
    "tts=pyttsx3.init()\n",
    "def speaknow():\n",
    "    text=text_box.get(1.0,END)\n",
    "    gender=gender_box.get()\n",
    "    speed=speed_box.get()\n",
    "    voices=tts.getProperty('voices')\n",
    "    \n",
    "    def setvoice():\n",
    "        if(gender=='Male'):\n",
    "            tts.setProperty('voice',voices[0].id)\n",
    "            tts.say(text)\n",
    "            tts.runAndWait()\n",
    "        else:\n",
    "            tts.setProperty('voice',voices[1].id)\n",
    "            tts.say(text)\n",
    "            tts.runAndWait()\n",
    "    if(text):\n",
    "        if(speed=='Fast'):\n",
    "            tts.setProperty('rate',250)\n",
    "            setvoice()\n",
    "        elif(speed=='Medium'):\n",
    "            tts.setProperty('rate',150)\n",
    "            setvoice()\n",
    "        else:\n",
    "            tts.setProperty('rate',60)\n",
    "            setvoice()\n",
    "            \n",
    "            \n",
    "            "
   ]
  },
  {
   "cell_type": "code",
   "execution_count": 7,
   "id": "2c9be85c",
   "metadata": {},
   "outputs": [],
   "source": [
    "user32 = ctypes.windll.user32\n",
    "screen_width = user32.GetSystemMetrics(0)\n",
    "screen_height = user32.GetSystemMetrics(1)\n",
    "logo = PhotoImage(file=\"C:\\\\Users\\\\gunnu\\\\Downloads\\\\final-tryy.png\")\n",
    "logo_x = screen_width - logo.width() - 10  # Adjust the padding as needed\n",
    "logo_y = screen_height - logo.height() - 75 \n",
    "Label(root,image=logo, bg=\"#FFB74D\").place(x=logo_x,y=logo_y)\n",
    "#root.mainloop()"
   ]
  },
  {
   "cell_type": "code",
   "execution_count": 8,
   "id": "3236d54c",
   "metadata": {},
   "outputs": [],
   "source": [
    "logo_image=PhotoImage(file=\"C:\\\\Users\\\\gunnu\\\\Downloads\\\\final-try.png\")\n",
    "root.iconphoto(False,logo_image)\n",
    "#root.mainloop()"
   ]
  },
  {
   "cell_type": "code",
   "execution_count": 9,
   "id": "1911fff2",
   "metadata": {},
   "outputs": [],
   "source": [
    "upper_frame=Frame(root, bg=\"#14A7DD\",width=1550,height=130)\n",
    "upper_frame.place(x=0,y=0)\n",
    "picture=PhotoImage(file=\"C:\\\\Users\\\\gunnu\\\\Downloads\\\\frame.png\")\n",
    "Label(upper_frame,image=picture,bg=\"#14A7DD\").place(x=100,y=20)\n",
    "#root.mainloop()"
   ]
  },
  {
   "cell_type": "code",
   "execution_count": 10,
   "id": "2e27c729",
   "metadata": {},
   "outputs": [],
   "source": [
    "Label(upper_frame,text=\"Text --> Speech Converter\", font=\"TimesNewRoman 40 bold\", bg=\"#FFFFFF\",fg=\"#14A7DD\").place(x=250,y=35)\n",
    "#root.mainloop()"
   ]
  },
  {
   "cell_type": "code",
   "execution_count": 11,
   "id": "47129abd",
   "metadata": {},
   "outputs": [],
   "source": [
    "text_box=Text(root,font=\"calibri 20\", bg=\"black\",fg=\"#FFFFFF\",relief=GROOVE, wrap=WORD,bd=10)\n",
    "text_box.config(insertbackground=\"white\") \n",
    "text_box.place(x=30,y=150,width=1500,height=180)\n",
    "#root.mainloop()"
   ]
  },
  {
   "cell_type": "code",
   "execution_count": 12,
   "id": "b486cd5d",
   "metadata": {},
   "outputs": [],
   "source": [
    "gender_box=Combobox(root, values=['Male','Female'],font=\"Robote 12\",state='r',width=12)\n",
    "gender_box.place(x=650,y=400)\n",
    "gender_box.set('Male')\n",
    "#root.mainloop()"
   ]
  },
  {
   "cell_type": "code",
   "execution_count": 13,
   "id": "8cb9b2f5",
   "metadata": {},
   "outputs": [],
   "source": [
    "speed_box=Combobox(root, values=['Fast','Medium','Slow'],font=\"Robote 12\",state='r',width=12)\n",
    "speed_box.place(x=850,y=400)\n",
    "speed_box.set('Medium')\n",
    "#root.mainloop()"
   ]
  },
  {
   "cell_type": "code",
   "execution_count": 14,
   "id": "16c8c995",
   "metadata": {},
   "outputs": [],
   "source": [
    "Label(root,text=\"Select Voice \",font=\"TimesNewRoman 15 bold\",bg=\"#F7AC40\",fg=\"White\").place(x=650,y=370)\n",
    "Label(root,text=\"Select Speed\",font=\"TimesNewRoman 15 bold\",bg=\"#F7AC40\",fg=\"White\").place(x=850,y=370)\n",
    "#root.mainloop()"
   ]
  },
  {
   "cell_type": "code",
   "execution_count": 15,
   "id": "572852ca",
   "metadata": {},
   "outputs": [],
   "source": [
    "play_button=PhotoImage(file=\"C:\\\\Users\\\\gunnu\\\\Downloads\\\\pbutton.png\")\n",
    "play_btn=Button(root, text=\"Play\",compound=LEFT,image=play_button,bg=\"white\",width=160,font=\"arial 16 bold\",borderwidth='0.1c',command=speaknow)\n",
    "play_btn.place(x=745,y=450)\n",
    "root.mainloop()"
   ]
  }
 ],
 "metadata": {
  "kernelspec": {
   "display_name": "Python 3 (ipykernel)",
   "language": "python",
   "name": "python3"
  },
  "language_info": {
   "codemirror_mode": {
    "name": "ipython",
    "version": 3
   },
   "file_extension": ".py",
   "mimetype": "text/x-python",
   "name": "python",
   "nbconvert_exporter": "python",
   "pygments_lexer": "ipython3",
   "version": "3.9.13"
  }
 },
 "nbformat": 4,
 "nbformat_minor": 5
}
